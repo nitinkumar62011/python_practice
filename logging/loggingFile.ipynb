{
 "cells": [
  {
   "cell_type": "code",
   "execution_count": 1,
   "metadata": {},
   "outputs": [],
   "source": []
  },
  {
   "cell_type": "code",
   "execution_count": 25,
   "metadata": {},
   "outputs": [],
   "source": [
    "class MyCustomError(Exception):\n",
    "    pass"
   ]
  },
  {
   "cell_type": "code",
   "execution_count": 26,
   "metadata": {},
   "outputs": [
    {
     "ename": "MyCustomError",
     "evalue": "This is my exception",
     "output_type": "error",
     "traceback": [
      "\u001b[1;31m---------------------------------------------------------------------------\u001b[0m",
      "\u001b[1;31mMyCustomError\u001b[0m                             Traceback (most recent call last)",
      "\u001b[1;32mc:\\Users\\hp\\Desktop\\python library\\python_practice\\logging\\loggingFile.ipynb Cell 3\u001b[0m line \u001b[0;36m1\n\u001b[1;32m----> <a href='vscode-notebook-cell:/c%3A/Users/hp/Desktop/python%20library/python_practice/logging/loggingFile.ipynb#W2sZmlsZQ%3D%3D?line=0'>1</a>\u001b[0m \u001b[39mraise\u001b[39;00m MyCustomError(\u001b[39m\"\u001b[39m\u001b[39mThis is my exception\u001b[39m\u001b[39m\"\u001b[39m)\n",
      "\u001b[1;31mMyCustomError\u001b[0m: This is my exception"
     ]
    }
   ],
   "source": [
    "raise MyCustomError(\"This is my exception\")"
   ]
  },
  {
   "cell_type": "code",
   "execution_count": 27,
   "metadata": {},
   "outputs": [
    {
     "name": "stdout",
     "output_type": "stream",
     "text": [
      "This is my exception\n"
     ]
    }
   ],
   "source": [
    "try:\n",
    "    raise MyCustomError(\"This is my exception\")\n",
    "except Exception as e:\n",
    "    print(e)"
   ]
  },
  {
   "cell_type": "markdown",
   "metadata": {},
   "source": [
    " ### Logging "
   ]
  },
  {
   "cell_type": "code",
   "execution_count": 28,
   "metadata": {},
   "outputs": [],
   "source": [
    "import logging as lg"
   ]
  },
  {
   "cell_type": "code",
   "execution_count": 29,
   "metadata": {},
   "outputs": [],
   "source": [
    "# increasing order of danger\n",
    "#Debug\n",
    "# info\n",
    "# warning\n",
    "#error\n",
    "#critical error"
   ]
  },
  {
   "cell_type": "code",
   "execution_count": 30,
   "metadata": {},
   "outputs": [],
   "source": [
    "# lg.basicConfig(level=lg.DEBUG)\n",
    "# lg.debug(\"This is sample message\")\n",
    "# lg.info(\"This is info\")"
   ]
  },
  {
   "cell_type": "code",
   "execution_count": 31,
   "metadata": {},
   "outputs": [],
   "source": [
    " import os"
   ]
  },
  {
   "cell_type": "code",
   "execution_count": 32,
   "metadata": {},
   "outputs": [
    {
     "data": {
      "text/plain": [
       "'c:\\\\Users\\\\hp\\\\Desktop\\\\python library\\\\python_practice\\\\logging'"
      ]
     },
     "execution_count": 32,
     "metadata": {},
     "output_type": "execute_result"
    }
   ],
   "source": [
    "pwd"
   ]
  },
  {
   "cell_type": "code",
   "execution_count": 33,
   "metadata": {},
   "outputs": [
    {
     "name": "stderr",
     "output_type": "stream",
     "text": [
      "CRITICAL:root:c:\\Users\\hp\\Desktop\\python library\\python_practice\\logging System failure Please look into  \n"
     ]
    }
   ],
   "source": [
    "dir_path=os.getcwd()\n",
    "log_file=\"system.txt\"\n",
    "full_path=os.path.join(dir_path,log_file)\n",
    "os.makedirs(dir_path,exist_ok=True)\n",
    "logger=lg.getLogger()\n",
    "logger.setLevel(lg.CRITICAL)\n",
    "handler=lg.FileHandler(full_path)\n",
    "handler.setFormatter(lg.Formatter('%(asctime)s:%(levelname)s:%(message)s'))\n",
    "logger.addHandler(handler)\n",
    "a=\"Please look into \"\n",
    "lg.critical(dir_path+ \" System failure %s \",a)\n",
    "handler.close()"
   ]
  },
  {
   "cell_type": "code",
   "execution_count": null,
   "metadata": {},
   "outputs": [],
   "source": []
  }
 ],
 "metadata": {
  "kernelspec": {
   "display_name": "Python 3",
   "language": "python",
   "name": "python3"
  },
  "language_info": {
   "codemirror_mode": {
    "name": "ipython",
    "version": 3
   },
   "file_extension": ".py",
   "mimetype": "text/x-python",
   "name": "python",
   "nbconvert_exporter": "python",
   "pygments_lexer": "ipython3",
   "version": "3.11.7"
  }
 },
 "nbformat": 4,
 "nbformat_minor": 2
}
